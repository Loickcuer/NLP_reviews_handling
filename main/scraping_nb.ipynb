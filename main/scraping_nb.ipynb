{
 "cells": [
  {
   "cell_type": "markdown",
   "metadata": {},
   "source": [
    "## Machine Learning for NLP : Projet 2"
   ]
  },
  {
   "cell_type": "markdown",
   "metadata": {},
   "source": [
    "Important libraries"
   ]
  },
  {
   "cell_type": "code",
   "execution_count": 1,
   "metadata": {},
   "outputs": [],
   "source": [
    "import pandas as pd\n",
    "from bs4 import BeautifulSoup as soup\n",
    "from urllib.request import urlopen\n",
    "import requests\n",
    "import time"
   ]
  },
  {
   "cell_type": "markdown",
   "metadata": {},
   "source": [
    "##### Scrapping on Cloth Shops on Trustpilot"
   ]
  },
  {
   "cell_type": "code",
   "execution_count": 2,
   "metadata": {},
   "outputs": [],
   "source": [
    "my_urls = [\"https://fr.trustpilot.com/categories/clothing_store\", \"https://fr.trustpilot.com/categories/electronics_technology\", \"https://fr.trustpilot.com/categories/jewelry_store\", \"https://fr.trustpilot.com/categories/cosmetics_store\"]"
   ]
  },
  {
   "cell_type": "markdown",
   "metadata": {},
   "source": [
    "Getting all shops"
   ]
  },
  {
   "cell_type": "code",
   "execution_count": 3,
   "metadata": {},
   "outputs": [],
   "source": [
    "def get_companies_info(my_url):\n",
    "    comp_info = []\n",
    "\n",
    "# opening url and grabbing the web page\n",
    "    uClient = urlopen(my_url)\n",
    "    page_html = uClient.read()\n",
    "    uClient.close()\n",
    "\n",
    "    # html parsing\n",
    "    page_soup = soup(page_html, 'html.parser')\n",
    "\n",
    "\n",
    "    companies = page_soup.findAll(\"div\", {'class' : \"paper_paper__1PY90 paper_outline__lwsUX card_card__lQWDv card_noPadding__D8PcU styles_wrapper__2JOo2\"})\n",
    "    for element in companies:\n",
    "        info_dict = {}\n",
    "        info_dict['name'] = element.find('p').text\n",
    "        info_dict['href'] = element.find('a').get('href')\n",
    "        info_dict['type'] = [ele.text for ele in element.findAll('span', {'class' : \"typography_body-s__aY15Q typography_appearance-default__AAY17\"})]\n",
    "        comp_info.append(info_dict)\n",
    "    print(comp_info)\n",
    "\n",
    "    return comp_info"
   ]
  },
  {
   "cell_type": "markdown",
   "metadata": {},
   "source": [
    "##### Getting total pages for every shop"
   ]
  },
  {
   "cell_type": "code",
   "execution_count": 4,
   "metadata": {},
   "outputs": [],
   "source": [
    "def get_pages(comp_info): \n",
    "    pages = {}\n",
    "    types = {}\n",
    "    for ele in comp_info:\n",
    "        response = requests.get(f\"https://fr.trustpilot.com/{ele['href']}\")\n",
    "        p_soup = soup(response.text, 'html.parser')\n",
    "        \n",
    "        pagination_div = p_soup.find(\"div\", class_=\"styles_pagination__6VmQv\")\n",
    "        pagination_link = pagination_div.find(\"a\", {\"name\": \"pagination-button-last\"})\n",
    "        \n",
    "        if pagination_link is not None:\n",
    "            aria_label = pagination_link[\"aria-label\"]\n",
    "            pages[ele['href']] = int(aria_label[-2::])\n",
    "            \n",
    "        \n",
    "        else:\n",
    "            pages[ele['href']] = 1\n",
    "\n",
    "        types[ele['href']] = ele['type']\n",
    "        #pages[\"name\"] = ele['name']\n",
    "        #time.sleep(1)\n",
    "\n",
    "    print(pages)\n",
    "    return pages, types\n"
   ]
  },
  {
   "cell_type": "markdown",
   "metadata": {},
   "source": [
    "##### Getting all the reviews, score and shop's name into a dataframe"
   ]
  },
  {
   "cell_type": "code",
   "execution_count": 7,
   "metadata": {},
   "outputs": [],
   "source": [
    "def get_reviews(pages):\n",
    "\n",
    "    reviews_data = []\n",
    "\n",
    "    base_url = \"https://fr.trustpilot.com\"\n",
    "    for endpoint in pages.keys():\n",
    "        for page in range(1, pages[endpoint] + 1):\n",
    "            url = f\"{base_url}{endpoint}?page={page}\"\n",
    "            response = requests.get(url)\n",
    "\n",
    "            if response.status_code != 200:\n",
    "                print(f\"Échec du chargement de la page {page}\")\n",
    "                continue\n",
    "\n",
    "            my_soup = soup(response.content, 'html.parser')\n",
    "\n",
    "\n",
    "            divs = my_soup.find_all('div', class_='styles_reviewCardInner__EwDq2')\n",
    "\n",
    "            \n",
    "            for div in divs:\n",
    "\n",
    "                name = div.find('span', class_='typography_heading-xxs__QKBS8 typography_appearance-default__AAY17').text\n",
    "                section = div.find('section', class_='styles_reviewContentwrapper__zH_9M')\n",
    "                rating = section.find('div', class_='styles_reviewHeader__iU9Px')['data-service-review-rating']\n",
    "                #review_title = section.find('h2', {'data-service-review-title-typography': True}).text\n",
    "                text = section.find('p', {'data-service-review-text-typography': True}).text if section.find('p', {'data-service-review-text-typography': True}) else ''\n",
    "                review_date = section.find('time')['datetime'] if section.find('time') else ''\n",
    "                experience_date = section.find('p', class_=\"typography_body-m__xgxZ_ typography_appearance-default__AAY17\").get_text(strip=True).split(':')[-1].strip()\n",
    "                types = pages[endpoint]\n",
    "\n",
    "                reviews_data.append({'shop': str(endpoint)[8::], 'types': types, 'name': name, 'score': int(rating), 'review': str(text), 'review_date': str(review_date), 'experience_date': str(experience_date)})\n",
    "            time.sleep(1)  \n",
    "\n",
    "    return reviews_data"
   ]
  },
  {
   "cell_type": "code",
   "execution_count": 6,
   "metadata": {},
   "outputs": [],
   "source": [
    "shops = []\n",
    "scores = []\n",
    "reviews = []\n",
    "review_dates = []  \n",
    "experience_dates = []\n",
    "names = []\n",
    "types = []\n",
    "whole_dict = {}"
   ]
  },
  {
   "cell_type": "code",
   "execution_count": 12,
   "metadata": {},
   "outputs": [
    {
     "name": "stdout",
     "output_type": "stream",
     "text": [
      "[{'name': 'Maison de MaMoulia', 'href': '/review/maisondemamoulia.fr', 'type': ['Magasin de vêtements', 'Magasin de vêtements pour enfants', 'Magasin de laine', 'Magasin de vêtements pour femmes', 'Magasin de vêtements pour bébés', 'Magasin de vêtements', 'Magasin de vêtements pour enfants', 'Magasin de laine', 'Magasin de vêtements pour femmes', 'Magasin de vêtements pour bébés']}, {'name': 'Boutique Route du Sud', 'href': '/review/boutiqueroutedusud.com', 'type': ['Magasin de vêtements', 'Magasin de vêtements']}, {'name': 'Clickandrock', 'href': '/review/clickandrock.fr', 'type': ['Magasin de vêtements', 'Magasin de chaussures', 'Magasin de vêtements', 'Magasin de chaussures']}, {'name': 'Fuzz Bayonne', 'href': '/review/fuzz-bayonne.com', 'type': ['Magasin de musique', 'Magasin de guitares', 'Magasin de disques', 'Magasin de vêtements', 'Magasin de musique', 'Magasin de guitares', 'Magasin de disques', 'Magasin de vêtements']}, {'name': 'Kamshoes', 'href': '/review/kamshoes.fr', 'type': ['Magasin de chaussures', 'Magasin de vêtements', 'Magasin de produits de beauté', 'Magasin de chaussures', 'Magasin de vêtements', 'Magasin de produits de beauté']}, {'name': 'MYZAH', 'href': '/review/myzah.fr', 'type': ['Bijouterie', 'Magasin de vêtements', \"Boutique d'accessoires de mode\", 'Bijouterie', 'Magasin de vêtements', \"Boutique d'accessoires de mode\"]}, {'name': 'MR MARVIS France', 'href': '/review/mrmarvis.fr', 'type': ['Magasin de vêtements', 'Magasin de vêtements pour hommes', 'Magasin de vêtements', 'Magasin de vêtements pour hommes']}, {'name': 'Côté Bô M', 'href': '/review/cote-bo-m.com', 'type': ['Magasin de vêtements', 'Magasin de vêtements']}, {'name': 'WeDressFair', 'href': '/review/wedressfair.fr', 'type': [\"Boutique d'articles de mode\", 'Magasin de chaussures', 'Magasin de vêtements de sport (activewear)', 'Magasin de vêtements', 'Magasin de vêtements pour hommes', 'Magasin de vêtements pour femmes', \"Boutique d'articles de mode\", 'Magasin de chaussures', 'Magasin de vêtements de sport (activewear)', 'Magasin de vêtements', 'Magasin de vêtements pour hommes', 'Magasin de vêtements pour femmes']}, {'name': 'Sessile', 'href': '/review/sessile.co', 'type': [\"Boutique d'accessoires de mode\", 'Magasin de vêtements', 'Magasin de chaussures', \"Boutique d'accessoires de mode\", 'Magasin de vêtements', 'Magasin de chaussures']}, {'name': 'bottinsarl.com', 'href': '/review/bottinsarl.com', 'type': ['Magasin de vêtements', 'Magasin de vêtements pour femmes', 'Magasin de vêtements', 'Magasin de vêtements pour femmes']}, {'name': 'Kapitales', 'href': '/review/kapitales.fr', 'type': ['Magasin de vêtements', 'Magasin de vêtements']}, {'name': 'WECYRCLED', 'href': '/review/wecyrcled.com', 'type': ['Magasin de vêtements', 'Art & antiquités', 'Magasin de vêtements', 'Art & antiquités']}, {'name': 'Fenekia', 'href': '/review/fenekia.com', 'type': ['Magasin de vêtements', 'Magasin de vêtements de plage', 'Magasin de maillots de bain', 'Magasin de vêtements de sport', 'Magasin de vêtements', 'Magasin de vêtements de plage', 'Magasin de maillots de bain', 'Magasin de vêtements de sport']}, {'name': 'Offrandes', 'href': '/review/offrandes.com', 'type': ['Magasin de vêtements', 'Magasin de vêtements']}, {'name': 'Eb Luxury', 'href': '/review/eb-luxury.fr', 'type': ['Magasin de maroquinerie', 'Magasin de vêtements', 'Magasin de maroquinerie', 'Magasin de vêtements']}, {'name': 'Aprizo', 'href': '/review/aprizo.com', 'type': ['Magasin de sacs et bagages', 'Bijouterie fantaisie', 'Magasin de vêtements', 'Magasin de vêtements pour femmes', 'Magasin de chaussures', 'Magasin de vêtements pour hommes', 'Magasin de sacs et bagages', 'Bijouterie fantaisie', 'Magasin de vêtements', 'Magasin de vêtements pour femmes', 'Magasin de chaussures', 'Magasin de vêtements pour hommes']}, {'name': 'tajinebanane.fr', 'href': '/review/tajinebanane.fr', 'type': ['Magasin de vêtements', 'Magasin pour femmes enceintes', 'Magasin de vêtements pour bébés', 'Magasin de vêtements pour hommes', 'Magasin de vêtements pour enfants', 'Magasin de vêtements pour femmes', 'Magasin de vêtements', 'Magasin pour femmes enceintes', 'Magasin de vêtements pour bébés', 'Magasin de vêtements pour hommes', 'Magasin de vêtements pour enfants', 'Magasin de vêtements pour femmes']}, {'name': 'Cars and me', 'href': '/review/www.carsandme.com', 'type': ['Magasin de vêtements', 'Magasin de vêtements']}, {'name': 'MY1996', 'href': '/review/my1996.fr', 'type': ['Magasin de vêtements', 'Magasin de vêtements pour femmes', \"Boutique d'accessoires de mode\", \"Boutique d'articles de mode\", 'Magasin de vêtements', 'Magasin de vêtements pour femmes', \"Boutique d'accessoires de mode\", \"Boutique d'articles de mode\"]}]\n",
      "{'/review/maisondemamoulia.fr': 85, '/review/boutiqueroutedusud.com': 30, '/review/clickandrock.fr': 10, '/review/fuzz-bayonne.com': 9, '/review/kamshoes.fr': 6, '/review/myzah.fr': 7, '/review/mrmarvis.fr': 2, '/review/cote-bo-m.com': 48, '/review/wedressfair.fr': 62, '/review/sessile.co': 29, '/review/bottinsarl.com': 9, '/review/kapitales.fr': 9, '/review/wecyrcled.com': 8, '/review/fenekia.com': 7, '/review/offrandes.com': 1, '/review/eb-luxury.fr': 1, '/review/aprizo.com': 43, '/review/tajinebanane.fr': 30, '/review/www.carsandme.com': 25, '/review/my1996.fr': 1}\n",
      "[{'name': 'Europe Nature-optik', 'href': '/review/www.europe-nature-optik.fr', 'type': ['Magasin de jumelles', 'Magasin de jumelles']}, {'name': 'TRIANGLE Hi-Fi FRANCE', 'href': '/review/trianglehifi.fr', 'type': ['Magasin Hi-Fi', 'Magasin Hi-Fi']}, {'name': 'Ma-Carte-Electronique.fr', 'href': '/review/ma-carte-electronique.fr', 'type': ['Service de réparation de matériel électrique', 'Service de réparation de matériel électrique']}, {'name': 'Materiel Informatique-occasion', 'href': '/review/www.materiel-informatique-occasion.com', 'type': [\"Magasin d'informatique\", \"Magasin d'informatique\"]}, {'name': 'Ma-clé.fr', 'href': '/review/www.ma-clé.fr', 'type': ['Entreprise de logiciels', 'Boutique de logiciels', 'Fournisseur de logiciels', 'Entreprise de logiciels', 'Boutique de logiciels', 'Fournisseur de logiciels']}, {'name': 'MSHOP', 'href': '/review/mshop.fr', 'type': ['Magasin de téléphonie mobile', \"Magasin d'informatique\", 'Magasin de jeux vidéo', 'Magasin de téléphonie mobile', \"Magasin d'informatique\", 'Magasin de jeux vidéo']}, {'name': 'Fast Software', 'href': '/review/fastsoftware.fr', 'type': ['Boutique de logiciels', 'Fournisseur de logiciels', 'Entreprise de logiciels', 'Boutique de logiciels', 'Fournisseur de logiciels', 'Entreprise de logiciels']}, {'name': 'Assistance Ordinateur 34', 'href': '/review/assistance-ordinateur34.com', 'type': [\"Service de réparation d'ordinateurs\", \"Service de réparation d'ordinateurs\"]}, {'name': 'Nas Expert', 'href': '/review/nasexpert.fr', 'type': ['Service de sécurité informatique', 'Fournisseur de composants électroniques', \"Services de stockage d'archives\", 'Service de stockage et de disques durs', \"Magasin d'informatique\", 'Service de sécurité informatique', 'Fournisseur de composants électroniques', \"Services de stockage d'archives\", 'Service de stockage et de disques durs', \"Magasin d'informatique\"]}, {'name': 'Wedealee', 'href': '/review/wedealee.com', 'type': ['Grossiste en électronique', \"Distributeur d'appareils électroniques\", 'Grossiste en accessoires électroniques', \"Fournisseur d'équipements de télécommunications\", \"Magasin d'accessoires pour téléphones mobiles\", 'Magasin de téléphonie mobile', 'Grossiste en électronique', \"Distributeur d'appareils électroniques\", 'Grossiste en accessoires électroniques', \"Fournisseur d'équipements de télécommunications\", \"Magasin d'accessoires pour téléphones mobiles\", 'Magasin de téléphonie mobile']}, {'name': 'Ordi Pack', 'href': '/review/ordipack.fr', 'type': [\"Magasin d'ordinateurs d'occasion\", \"Service de réparation d'ordinateurs\", 'Assistance et services informatiques', \"Magasin d'ordinateurs d'occasion\", \"Service de réparation d'ordinateurs\", 'Assistance et services informatiques']}, {'name': 'Color Arena (ex Hedee Store)', 'href': '/review/hedee-store.com', 'type': ['Magasin de matériel Hi-Fi', 'Magasin de matériel home cinéma', \"Distributeur d'appareils électroniques\", 'Magasin de télévisions', 'Magasin Hi-Fi', 'Magasin de matériel Hi-Fi', 'Magasin de matériel home cinéma', \"Distributeur d'appareils électroniques\", 'Magasin de télévisions', 'Magasin Hi-Fi']}, {'name': 'Artefact - PC gamer reconditionné', 'href': '/review/pc-gamer.tech', 'type': [\"Magasin d'ordinateur de bureau\", \"Magasin d'informatique\", \"Magasin d'ordinateur de bureau\", \"Magasin d'informatique\"]}, {'name': 'OTAREE', 'href': '/review/www.otaree.com', 'type': ['Promoteur immobilier', 'Investissements immobiliers', 'Entreprise de logiciels', 'Fournisseur de logiciels', 'Société immobilière', 'Promoteur immobilier', 'Investissements immobiliers', 'Entreprise de logiciels', 'Fournisseur de logiciels', 'Société immobilière']}, {'name': 'Numero.VIP', 'href': '/review/numero.vip', 'type': ['Entreprise de télécommunications', 'Entreprise de télécommunications']}, {'name': 'Xylen Prod', 'href': '/review/www.xylenprod.fr', 'type': ['Service de restauration de photos', 'Service de restauration de photos']}, {'name': 'Adepem', 'href': '/review/www.adepem.com', 'type': ['Magasin de pièces détachées pour appareils électroménagers', 'Magasin de pièces et de composants électroniques détachés', 'Magasin de pièces détachées pour appareils électroménagers', 'Magasin de pièces et de composants électroniques détachés']}, {'name': 'Aboutbatteries', 'href': '/review/www.aboutbatteries.com', 'type': ['Magasin de batteries', 'Magasin de batteries']}, {'name': 'Intego', 'href': '/review/www.intego.com', 'type': ['Fournisseur de logiciels', 'Entreprise de logiciels', 'Fournisseur de logiciels', 'Entreprise de logiciels']}, {'name': 'iacono.fr', 'href': '/review/iacono.fr', 'type': ['Magasin de matériel home cinéma', 'Magasin de télévisions', \"Distributeur d'appareils électroniques\", 'Magasin de matériel Hi-Fi', \"Magasin d'électronique\", 'Magasin Hi-Fi', 'Magasin de matériel home cinéma', 'Magasin de télévisions', \"Distributeur d'appareils électroniques\", 'Magasin de matériel Hi-Fi', \"Magasin d'électronique\", 'Magasin Hi-Fi']}]\n",
      "{'/review/www.europe-nature-optik.fr': 68, '/review/trianglehifi.fr': 53, '/review/ma-carte-electronique.fr': 43, '/review/www.materiel-informatique-occasion.com': 33, '/review/www.ma-clé.fr': 25, '/review/mshop.fr': 22, '/review/fastsoftware.fr': 21, '/review/assistance-ordinateur34.com': 11, '/review/nasexpert.fr': 14, '/review/wedealee.com': 12, '/review/ordipack.fr': 10, '/review/hedee-store.com': 10, '/review/pc-gamer.tech': 9, '/review/www.otaree.com': 9, '/review/numero.vip': 6, '/review/www.xylenprod.fr': 6, '/review/www.adepem.com': 7, '/review/www.aboutbatteries.com': 92, '/review/www.intego.com': 49, '/review/iacono.fr': 24}\n",
      "[{'name': 'Illustres Bidules', 'href': '/review/illustresbidules.com', 'type': ['Bijouterie', 'Bijouterie fantaisie', 'Bijouterie', 'Bijouterie fantaisie']}, {'name': 'Eleonaure', 'href': '/review/www.eleonaure.com', 'type': ['Bijouterie', 'Bijouterie']}, {'name': 'i-diamants.com', 'href': '/review/www.i-diamants.com', 'type': ['Joaillier', 'Bijoutier', 'Fabricant de bijoux', 'Bijouterie', 'Diamantaire', 'Joaillier', 'Bijoutier', 'Fabricant de bijoux', 'Bijouterie', 'Diamantaire']}, {'name': 'ŌKAN STUDIO', 'href': '/review/okan-studio.com', 'type': ['Bijouterie', 'Bijouterie']}, {'name': 'MYZAH', 'href': '/review/myzah.fr', 'type': ['Bijouterie', 'Magasin de vêtements', \"Boutique d'accessoires de mode\", 'Bijouterie', 'Magasin de vêtements', \"Boutique d'accessoires de mode\"]}, {'name': 'Chic Time', 'href': '/review/www.chic-time.fr', 'type': ['Horlogerie', 'Bijouterie', \"Boutique d'accessoires de mode\", 'Horlogerie', 'Bijouterie', \"Boutique d'accessoires de mode\"]}, {'name': 'Palais du Rosaire', 'href': '/review/palaisdurosaire.com', 'type': ['Boutique de souvenirs', \"Boutique d'objets à collectionner\", 'Bijouterie', 'Magasin de bougies', \"Boutique d'objets religieux\", 'Boutique de figurines', 'Boutique de souvenirs', \"Boutique d'objets à collectionner\", 'Bijouterie', 'Magasin de bougies', \"Boutique d'objets religieux\", 'Boutique de figurines']}, {'name': 'Zeina Alliances', 'href': '/review/www.zeina-alliances.com', 'type': ['Bijouterie', 'Bijouterie']}, {'name': 'Who We Are bijoux', 'href': '/review/www.whoweare.shop', 'type': ['Bijouterie', 'Bijouterie']}, {'name': 'Nature Minerale', 'href': '/review/nature-minerale.fr', 'type': ['Bijouterie fantaisie', 'Bijouterie', 'Boutique de santé et beauté', 'Bijouterie fantaisie', 'Bijouterie', 'Boutique de santé et beauté']}, {'name': 'i-PERLEN DE', 'href': '/review/i-perlen.de', 'type': ['Bijouterie', 'Bijouterie']}, {'name': 'Maison Verhoeven', 'href': '/review/verhoeven-joaillier.com', 'type': ['Bijouterie', 'Horlogerie', 'Bijouterie', 'Horlogerie']}, {'name': 'Aurore & Luna', 'href': '/review/aurore-luna.fr', 'type': ['Bijouterie', 'Bijouterie']}, {'name': \"La Maison de l'Alliance & du Diamant\", 'href': '/review/maisondelalliance.fr', 'type': ['Bijoutier', 'Joaillier', 'Bijouterie', 'Prestataire de mariage', 'Bijoutier', 'Joaillier', 'Bijouterie', 'Prestataire de mariage']}, {'name': 'bijouxoccasions.com / CBBO', 'href': '/review/www.bijouxoccasions.com', 'type': ['Horlogerie', \"Entreprise de négoce de l'or et de l'argent\", 'Bijouterie', 'Horlogerie', \"Entreprise de négoce de l'or et de l'argent\", 'Bijouterie']}, {'name': 'Belle Miss e-shop', 'href': '/review/bellemissparis.com', 'type': ['Bijouterie fantaisie', 'Expert en bijoux', 'Bijouterie', 'Bijouterie fantaisie', 'Expert en bijoux', 'Bijouterie']}, {'name': 'Benlux', 'href': '/review/benlux.fr', 'type': ['Parfumerie', 'Horlogerie', 'Bijouterie', 'Distributeur de produits pour la peau', 'Magasin de maroquinerie', 'Distributeur de produits de beauté', 'Parfumerie', 'Horlogerie', 'Bijouterie', 'Distributeur de produits pour la peau', 'Magasin de maroquinerie', 'Distributeur de produits de beauté']}, {'name': 'Mathainitahiti', 'href': '/review/mathainitahiti.fr', 'type': ['Artisanat', 'Bijouterie fantaisie', 'Bijouterie', 'Artisanat', 'Bijouterie fantaisie', 'Bijouterie']}, {'name': 'Maison Mohs', 'href': '/review/maisonmohs.com', 'type': ['Bijouterie', 'Bijouterie']}, {'name': 'Toonzshop', 'href': '/review/www.toonzshop.com', 'type': [\"Boutique d'accessoires de mode\", 'Magasin de vêtements pour femmes', 'Bijouterie', 'Magasin de chaussures', 'Magasin de vêtements pour hommes', \"Boutique d'accessoires de mode\", 'Magasin de vêtements pour femmes', 'Bijouterie', 'Magasin de chaussures', 'Magasin de vêtements pour hommes']}]\n",
      "{'/review/illustresbidules.com': 49, '/review/www.eleonaure.com': 29, '/review/www.i-diamants.com': 26, '/review/okan-studio.com': 10, '/review/myzah.fr': 7, '/review/www.chic-time.fr': 59, '/review/palaisdurosaire.com': 91, '/review/www.zeina-alliances.com': 88, '/review/www.whoweare.shop': 71, '/review/nature-minerale.fr': 40, '/review/i-perlen.de': 1, '/review/verhoeven-joaillier.com': 30, '/review/aurore-luna.fr': 28, '/review/maisondelalliance.fr': 24, '/review/www.bijouxoccasions.com': 19, '/review/bellemissparis.com': 17, '/review/benlux.fr': 19, '/review/mathainitahiti.fr': 1, '/review/maisonmohs.com': 1, '/review/www.toonzshop.com': 44}\n",
      "[{'name': 'Florihana', 'href': '/review/florihana.com', 'type': [\"Magasin d'aromathérapie\", 'Magasin de cosmétiques', 'Boutique de santé et beauté', \"Magasin d'aromathérapie\", 'Magasin de cosmétiques', 'Boutique de santé et beauté']}, {'name': 'À la douche Simone', 'href': '/review/aladouchesimone.fr', 'type': ['Magasin de cosmétiques', 'Centre de bien-être', 'Magasin de cosmétiques', 'Centre de bien-être']}, {'name': 'Olala! French Cosmetics', 'href': '/review/olala-cosmetics.com', 'type': ['Magasin bio', 'Magasin de cosmétiques', 'Entreprise de cosmétique', 'Boutique de cadeaux', 'Fournisseur de produits de beauté', 'Magasin de produits de beauté', 'Magasin bio', 'Magasin de cosmétiques', 'Entreprise de cosmétique', 'Boutique de cadeaux', 'Fournisseur de produits de beauté', 'Magasin de produits de beauté']}, {'name': 'NosMondesAlternatifs', 'href': '/review/nosmondesalternatifs.com', 'type': [\"Boutique d'articles de toilette\", 'Magasin de cosmétiques', \"Boutique d'articles de toilette\", 'Magasin de cosmétiques']}, {'name': 'Lynaya', 'href': '/review/lynaya.fr', 'type': ['Magasin de cosmétiques', 'Magasin de cosmétiques']}, {'name': 'Avey', 'href': '/review/avey.fr', 'type': ['Magasin de cosmétiques', 'Entreprise de cosmétique', 'Boutique de santé et beauté', 'Magasin de cosmétiques', 'Entreprise de cosmétique', 'Boutique de santé et beauté']}, {'name': 'Mondebio', 'href': '/review/www.mondebio.com', 'type': ['Magasin de cosmétiques', 'Magasin de cosmétiques']}, {'name': 'Avenue des Parfums', 'href': '/review/avenue-des-parfums.fr', 'type': ['Distributeur de produits pour la peau', 'Institut de beauté', 'Distributeur de produits de beauté', 'Parfumerie', 'Magasin de cosmétiques', 'Fournisseur de cosmétiques et de parfums', 'Distributeur de produits pour la peau', 'Institut de beauté', 'Distributeur de produits de beauté', 'Parfumerie', 'Magasin de cosmétiques', 'Fournisseur de cosmétiques et de parfums']}, {'name': 'GESTEBIO', 'href': '/review/gestebio.fr', 'type': ['Fournisseur de cosmétiques et de parfums', 'Magasin de cosmétiques', 'Magasin de vitamines et compléments alimentaires', 'Service e-commerce', \"Pharmacie proposant de l'homéopathie\", 'Magasin bio', 'Fournisseur de cosmétiques et de parfums', 'Magasin de cosmétiques', 'Magasin de vitamines et compléments alimentaires', 'Service e-commerce', \"Pharmacie proposant de l'homéopathie\", 'Magasin bio']}, {'name': 'AMS BEAUTY', 'href': '/review/ams-beauty.com', 'type': ['Magasin de cosmétiques', 'Magasin de cosmétiques']}, {'name': 'Naturali ', 'href': '/review/naturali.fr', 'type': ['Magasin de cosmétiques', 'Magasin de cosmétiques']}, {'name': 'Bioeven', 'href': '/review/bioeven.fr', 'type': ['Entreprise de cosmétique', 'Magasin de cosmétiques', 'Boutique de santé et beauté', 'Magasin de produits de beauté', 'Entreprise de cosmétique', 'Magasin de cosmétiques', 'Boutique de santé et beauté', 'Magasin de produits de beauté']}, {'name': 'Yoonah', 'href': '/review/yoonah.fr', 'type': ['Distributeur de produits de beauté', 'Magasin de cosmétiques', 'Boutique de santé et beauté', 'Magasin de produits de beauté', 'Distributeur de produits de beauté', 'Magasin de cosmétiques', 'Boutique de santé et beauté', 'Magasin de produits de beauté']}, {'name': 'Skinorea', 'href': '/review/skinorea.com', 'type': ['Magasin de cosmétiques', 'Magasin de cosmétiques']}, {'name': 'Curaid', 'href': '/review/curaid.com', 'type': ['Magasin de cosmétiques', 'Magasin de cosmétiques']}, {'name': 'Blissim France 🇫🇷', 'href': '/review/blissim.fr', 'type': ['Magasin de produits de beauté', 'Magasin de cosmétiques', 'Magasin de produits de beauté', 'Magasin de cosmétiques']}, {'name': 'Pharma360', 'href': '/review/pharma360.fr', 'type': ['Magasin de cosmétiques', 'Distributeur de produits de beauté', 'Boutique de santé et beauté', 'Centre de bien-être', 'Pharmacie', \"Boutique d'articles de toilette\", 'Magasin de cosmétiques', 'Distributeur de produits de beauté', 'Boutique de santé et beauté', 'Centre de bien-être', 'Pharmacie', \"Boutique d'articles de toilette\"]}, {'name': 'GRAINE DE PASTEL', 'href': '/review/grainedepastel.com', 'type': ['Entreprise de cosmétique', 'Magasin de produits de beauté', 'Magasin de cosmétiques', 'Entreprise de cosmétique', 'Magasin de produits de beauté', 'Magasin de cosmétiques']}, {'name': \"Madin' Beauty\", 'href': '/review/www.madin-beauty.com', 'type': ['Magasin de produits capillaires', 'Fournisseur de produits de beauté', 'Distributeur de produits de beauté', 'Magasin de cosmétiques', 'Boutique de santé et beauté', \"Magasin d'aromathérapie\", 'Magasin de produits capillaires', 'Fournisseur de produits de beauté', 'Distributeur de produits de beauté', 'Magasin de cosmétiques', 'Boutique de santé et beauté', \"Magasin d'aromathérapie\"]}, {'name': 'Mira', 'href': '/review/mymira.fr', 'type': ['Magasin de cosmétiques', 'Entreprise de cosmétique', 'Magasin de cosmétiques', 'Entreprise de cosmétique']}]\n",
      "{'/review/florihana.com': 31, '/review/aladouchesimone.fr': 22, '/review/olala-cosmetics.com': 17, '/review/nosmondesalternatifs.com': 19, '/review/lynaya.fr': 15, '/review/avey.fr': 8, '/review/www.mondebio.com': 3, '/review/avenue-des-parfums.fr': 23, '/review/gestebio.fr': 8, '/review/ams-beauty.com': 7, '/review/naturali.fr': 6, '/review/bioeven.fr': 1, '/review/yoonah.fr': 1, '/review/skinorea.com': 1, '/review/curaid.com': 1, '/review/blissim.fr': 10, '/review/pharma360.fr': 84, '/review/grainedepastel.com': 41, '/review/www.madin-beauty.com': 37, '/review/mymira.fr': 15}\n"
     ]
    }
   ],
   "source": [
    "for url in my_urls:\n",
    "    comp_info = get_companies_info(url)\n",
    "    pages, type_list = get_pages(comp_info)\n",
    "    reviews_data = get_reviews(pages)\n",
    "    \n",
    "    for i in range(len(reviews_data)):\n",
    "        names.append(reviews_data[i]['name'])\n",
    "        types.append(reviews_data[i]['types'])\n",
    "        shops.append(reviews_data[i]['shop'])\n",
    "        scores.append(reviews_data[i]['score'])\n",
    "        reviews.append(reviews_data[i]['review'])\n",
    "        review_dates.append(reviews_data[i]['review_date'])\n",
    "        experience_dates.append(reviews_data[i]['experience_date'])"
   ]
  },
  {
   "cell_type": "code",
   "execution_count": 14,
   "metadata": {},
   "outputs": [],
   "source": [
    "whole_dict = {}\n",
    "whole_dict['name'] = names\n",
    "whole_dict['shop'] = shops\n",
    "whole_dict['score'] = scores\n",
    "whole_dict['review'] = reviews\n",
    "whole_dict['review_date'] = review_dates\n",
    "whole_dict['experience_date'] = experience_dates"
   ]
  },
  {
   "cell_type": "code",
   "execution_count": 15,
   "metadata": {},
   "outputs": [
    {
     "data": {
      "text/html": [
       "<div>\n",
       "<style scoped>\n",
       "    .dataframe tbody tr th:only-of-type {\n",
       "        vertical-align: middle;\n",
       "    }\n",
       "\n",
       "    .dataframe tbody tr th {\n",
       "        vertical-align: top;\n",
       "    }\n",
       "\n",
       "    .dataframe thead th {\n",
       "        text-align: right;\n",
       "    }\n",
       "</style>\n",
       "<table border=\"1\" class=\"dataframe\">\n",
       "  <thead>\n",
       "    <tr style=\"text-align: right;\">\n",
       "      <th></th>\n",
       "      <th>name</th>\n",
       "      <th>shop</th>\n",
       "      <th>score</th>\n",
       "      <th>review</th>\n",
       "      <th>review_date</th>\n",
       "      <th>experience_date</th>\n",
       "    </tr>\n",
       "  </thead>\n",
       "  <tbody>\n",
       "    <tr>\n",
       "      <th>0</th>\n",
       "      <td>Claudine</td>\n",
       "      <td>maisondemamoulia.fr</td>\n",
       "      <td>5</td>\n",
       "      <td>J'ai commandé une paire de chaussettes en lain...</td>\n",
       "      <td>2024-01-11T12:26:55.000Z</td>\n",
       "      <td>18 décembre 2023</td>\n",
       "    </tr>\n",
       "    <tr>\n",
       "      <th>1</th>\n",
       "      <td>adeline barbe</td>\n",
       "      <td>maisondemamoulia.fr</td>\n",
       "      <td>5</td>\n",
       "      <td>La propriétaire du site est une personne très ...</td>\n",
       "      <td>2024-01-09T22:36:48.000Z</td>\n",
       "      <td>02 décembre 2023</td>\n",
       "    </tr>\n",
       "    <tr>\n",
       "      <th>2</th>\n",
       "      <td>Audrey L.</td>\n",
       "      <td>maisondemamoulia.fr</td>\n",
       "      <td>5</td>\n",
       "      <td>Des produits de qualité, un envoi toujours rap...</td>\n",
       "      <td>2024-01-09T20:49:21.000Z</td>\n",
       "      <td>09 janvier 2024</td>\n",
       "    </tr>\n",
       "    <tr>\n",
       "      <th>3</th>\n",
       "      <td>Client</td>\n",
       "      <td>maisondemamoulia.fr</td>\n",
       "      <td>5</td>\n",
       "      <td>Livraison en 2 jours chrono, commande expédiée...</td>\n",
       "      <td>2024-01-08T16:31:37.000Z</td>\n",
       "      <td>23 décembre 2023</td>\n",
       "    </tr>\n",
       "    <tr>\n",
       "      <th>4</th>\n",
       "      <td>Alex</td>\n",
       "      <td>maisondemamoulia.fr</td>\n",
       "      <td>5</td>\n",
       "      <td>Parfait ! Livraison rapide, emballage soigné, ...</td>\n",
       "      <td>2024-01-11T17:33:14.000Z</td>\n",
       "      <td>15 décembre 2023</td>\n",
       "    </tr>\n",
       "  </tbody>\n",
       "</table>\n",
       "</div>"
      ],
      "text/plain": [
       "            name                 shop  score  \\\n",
       "0       Claudine  maisondemamoulia.fr      5   \n",
       "1  adeline barbe  maisondemamoulia.fr      5   \n",
       "2      Audrey L.  maisondemamoulia.fr      5   \n",
       "3         Client  maisondemamoulia.fr      5   \n",
       "4           Alex  maisondemamoulia.fr      5   \n",
       "\n",
       "                                              review  \\\n",
       "0  J'ai commandé une paire de chaussettes en lain...   \n",
       "1  La propriétaire du site est une personne très ...   \n",
       "2  Des produits de qualité, un envoi toujours rap...   \n",
       "3  Livraison en 2 jours chrono, commande expédiée...   \n",
       "4  Parfait ! Livraison rapide, emballage soigné, ...   \n",
       "\n",
       "                review_date   experience_date  \n",
       "0  2024-01-11T12:26:55.000Z  18 décembre 2023  \n",
       "1  2024-01-09T22:36:48.000Z  02 décembre 2023  \n",
       "2  2024-01-09T20:49:21.000Z   09 janvier 2024  \n",
       "3  2024-01-08T16:31:37.000Z  23 décembre 2023  \n",
       "4  2024-01-11T17:33:14.000Z  15 décembre 2023  "
      ]
     },
     "execution_count": 15,
     "metadata": {},
     "output_type": "execute_result"
    }
   ],
   "source": [
    "data = pd.DataFrame(whole_dict)\n",
    "data.head()"
   ]
  },
  {
   "cell_type": "markdown",
   "metadata": {},
   "source": [
    "##### Dataframe statistics"
   ]
  },
  {
   "cell_type": "code",
   "execution_count": 16,
   "metadata": {},
   "outputs": [
    {
     "name": "stdout",
     "output_type": "stream",
     "text": [
      "<class 'pandas.core.frame.DataFrame'>\n",
      "RangeIndex: 38293 entries, 0 to 38292\n",
      "Data columns (total 6 columns):\n",
      " #   Column           Non-Null Count  Dtype \n",
      "---  ------           --------------  ----- \n",
      " 0   name             38293 non-null  object\n",
      " 1   shop             38293 non-null  object\n",
      " 2   score            38293 non-null  int64 \n",
      " 3   review           38293 non-null  object\n",
      " 4   review_date      38293 non-null  object\n",
      " 5   experience_date  38293 non-null  object\n",
      "dtypes: int64(1), object(5)\n",
      "memory usage: 1.8+ MB\n"
     ]
    }
   ],
   "source": [
    "data.info()"
   ]
  },
  {
   "cell_type": "code",
   "execution_count": 17,
   "metadata": {},
   "outputs": [
    {
     "data": {
      "text/plain": [
       "score\n",
       "5    33701\n",
       "4     2921\n",
       "1      726\n",
       "3      641\n",
       "2      304\n",
       "Name: count, dtype: int64"
      ]
     },
     "execution_count": 17,
     "metadata": {},
     "output_type": "execute_result"
    }
   ],
   "source": [
    "data['score'].value_counts()"
   ]
  },
  {
   "cell_type": "code",
   "execution_count": 18,
   "metadata": {},
   "outputs": [],
   "source": [
    "#Save into a csv for ulterior processing\n",
    "data.to_csv('data.csv', index=False)"
   ]
  },
  {
   "cell_type": "code",
   "execution_count": null,
   "metadata": {},
   "outputs": [],
   "source": []
  }
 ],
 "metadata": {
  "kernelspec": {
   "display_name": "Python 3",
   "language": "python",
   "name": "python3"
  },
  "language_info": {
   "codemirror_mode": {
    "name": "ipython",
    "version": 3
   },
   "file_extension": ".py",
   "mimetype": "text/x-python",
   "name": "python",
   "nbconvert_exporter": "python",
   "pygments_lexer": "ipython3",
   "version": "3.11.4"
  }
 },
 "nbformat": 4,
 "nbformat_minor": 2
}
